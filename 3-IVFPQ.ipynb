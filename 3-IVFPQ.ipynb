{
 "cells": [
  {
   "cell_type": "code",
   "execution_count": 1,
   "metadata": {},
   "outputs": [
    {
     "name": "stderr",
     "output_type": "stream",
     "text": [
      "Failed to load GPU Faiss: No module named swigfaiss_gpu\n",
      "Faiss falling back to CPU-only.\n"
     ]
    },
    {
     "name": "stdout",
     "output_type": "stream",
     "text": [
      "[[   0  491  424  584]\n",
      " [   1 1063  617  191]\n",
      " [   2  304  179  346]\n",
      " [   3  484  162  491]\n",
      " [   4  288  600  197]]\n",
      "[[1.5985124 5.5621166 5.7146072 6.0769935]\n",
      " [1.7909644 5.721672  6.050125  6.411626 ]\n",
      " [1.667192  5.6445165 6.279294  6.7285028]\n",
      " [1.8440818 6.3907676 6.543792  6.7020473]\n",
      " [1.3459432 5.8926816 6.3004694 6.3125706]]\n",
      "[[ 9864  9510  9636 10520]\n",
      " [10531 10047 10203  9762]\n",
      " [ 9229  9469  9616  9510]\n",
      " [ 9787 11000 10584 10765]\n",
      " [ 9464  9486  9835 10187]]\n"
     ]
    }
   ],
   "source": [
    "from __future__ import print_function\n",
    "import numpy as np\n",
    "\n",
    "d = 64                           # dimension\n",
    "nb = 1000000                      # database size\n",
    "nq = 10000                       # nb of queries\n",
    "np.random.seed(1234)             # make reproducible\n",
    "xb = np.random.random((nb, d)).astype('float32')\n",
    "xb[:, 0] += np.arange(nb) / 1000.\n",
    "xq = np.random.random((nq, d)).astype('float32')\n",
    "xq[:, 0] += np.arange(nq) / 1000.\n",
    "\n",
    "import faiss\n",
    "\n",
    "nlist = 100\n",
    "m = 8\n",
    "k = 4\n",
    "quantizer = faiss.IndexFlatL2(d)  # this remains the same\n",
    "index = faiss.IndexIVFPQ(quantizer, d, nlist, m, 8)\n",
    "                                  # 8 specifies that each sub-vector is encoded as 8 bits\n",
    "index.train(xb)\n",
    "index.add(xb)\n",
    "D, I = index.search(xb[:5], k) # sanity check\n",
    "print(I)\n",
    "print(D)\n",
    "index.nprobe = 10              # make comparable with experiment above\n",
    "D, I = index.search(xq, k)     # search\n",
    "print(I[-5:])"
   ]
  },
  {
   "cell_type": "code",
   "execution_count": 2,
   "metadata": {},
   "outputs": [],
   "source": [
    "faiss.write_index(index, '3-IVFPQ.index')"
   ]
  },
  {
   "cell_type": "code",
   "execution_count": 3,
   "metadata": {},
   "outputs": [],
   "source": [
    "loaded = faiss.read_index('3-IVFPQ.index')"
   ]
  },
  {
   "cell_type": "code",
   "execution_count": 4,
   "metadata": {},
   "outputs": [
    {
     "name": "stdout",
     "output_type": "stream",
     "text": [
      "[[   0  491  424  584]\n",
      " [   1 1063  617  191]\n",
      " [   2  304  179  346]\n",
      " [   3  484  162  491]\n",
      " [   4  288  600  197]]\n",
      "[[1.5985124 5.5621166 5.7146072 6.0769935]\n",
      " [1.7909644 5.721672  6.050125  6.411626 ]\n",
      " [1.667192  5.6445165 6.279294  6.7285028]\n",
      " [1.8440818 6.3907676 6.543792  6.7020473]\n",
      " [1.3459432 5.8926816 6.3004694 6.3125706]]\n"
     ]
    }
   ],
   "source": [
    "D, I = loaded.search(xb[:5], k) # sanity check\n",
    "print(I)\n",
    "print(D)"
   ]
  },
  {
   "cell_type": "code",
   "execution_count": 5,
   "metadata": {},
   "outputs": [
    {
     "name": "stdout",
     "output_type": "stream",
     "text": [
      "[[ 9864  9510  9636 10520]\n",
      " [10531 10047 10203  9762]\n",
      " [ 9229  9469  9616  9510]\n",
      " [ 9787 11000 10584 10765]\n",
      " [ 9464  9486  9835 10187]]\n"
     ]
    }
   ],
   "source": [
    "loaded.nprobe = 10              # make comparable with experiment above\n",
    "D, I = loaded.search(xq, k)     # search\n",
    "print(I[-5:])"
   ]
  },
  {
   "cell_type": "code",
   "execution_count": null,
   "metadata": {},
   "outputs": [],
   "source": []
  }
 ],
 "metadata": {
  "kernelspec": {
   "display_name": "Python 2",
   "language": "python",
   "name": "python2"
  },
  "language_info": {
   "codemirror_mode": {
    "name": "ipython",
    "version": 2
   },
   "file_extension": ".py",
   "mimetype": "text/x-python",
   "name": "python",
   "nbconvert_exporter": "python",
   "pygments_lexer": "ipython2",
   "version": "2.7.12"
  }
 },
 "nbformat": 4,
 "nbformat_minor": 2
}
